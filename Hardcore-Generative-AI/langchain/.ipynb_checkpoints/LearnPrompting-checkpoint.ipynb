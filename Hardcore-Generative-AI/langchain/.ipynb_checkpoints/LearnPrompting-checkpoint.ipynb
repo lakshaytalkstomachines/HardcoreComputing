{
 "cells": [
  {
   "cell_type": "markdown",
   "id": "9c9b153b-b198-4010-8fac-d42cbb127ed3",
   "metadata": {},
   "source": [
    "### PromptTemplates"
   ]
  },
  {
   "cell_type": "code",
   "execution_count": 1,
   "id": "24dc3389-4551-4040-b04e-2a4457efb4b7",
   "metadata": {},
   "outputs": [],
   "source": [
    "from langchain_core.prompts import PromptTemplate"
   ]
  },
  {
   "cell_type": "code",
   "execution_count": 2,
   "id": "418129aa-40de-42da-8f20-b2e27c96d841",
   "metadata": {},
   "outputs": [],
   "source": [
    "prompt_template = PromptTemplate.from_template(\"Tell me a joke about {topic}\")"
   ]
  },
  {
   "cell_type": "code",
   "execution_count": 4,
   "id": "907c9bb2-cb65-4af5-8d6a-50efc07b25b1",
   "metadata": {},
   "outputs": [
    {
     "data": {
      "text/plain": [
       "langchain_core.prompts.prompt.PromptTemplate"
      ]
     },
     "execution_count": 4,
     "metadata": {},
     "output_type": "execute_result"
    }
   ],
   "source": [
    "type(prompt_template)"
   ]
  },
  {
   "cell_type": "code",
   "execution_count": 5,
   "id": "304b0f07-ed74-43f6-bfa6-81f78a9521e2",
   "metadata": {},
   "outputs": [
    {
     "data": {
      "text/plain": [
       "StringPromptValue(text='Tell me a joke about cats')"
      ]
     },
     "execution_count": 5,
     "metadata": {},
     "output_type": "execute_result"
    }
   ],
   "source": [
    "prompt_template.invoke({\"topic\":\"cats\"})"
   ]
  },
  {
   "cell_type": "markdown",
   "id": "6d64e885-0aae-4369-a33d-bbb97bb5c648",
   "metadata": {},
   "source": [
    "### ChatPromptTemplates"
   ]
  },
  {
   "cell_type": "code",
   "execution_count": 6,
   "id": "b2605f4c-64b6-4c2e-89f7-ea9ef3e330cd",
   "metadata": {},
   "outputs": [],
   "source": [
    "from langchain_core.prompts import ChatPromptTemplate"
   ]
  },
  {
   "cell_type": "code",
   "execution_count": 7,
   "id": "0cd3c6f5-baf2-409a-af71-ab71205e382b",
   "metadata": {},
   "outputs": [],
   "source": [
    "c_prompt_template = ChatPromptTemplate.from_messages([\n",
    "    (\"system\", \"You are a helfull assistant\"),\n",
    "    (\"user\", \"Tell me a joke about {topic}\")\n",
    "])"
   ]
  },
  {
   "cell_type": "code",
   "execution_count": 18,
   "id": "7e1a5f5c-1be4-48b0-93ed-f5fc3dabc695",
   "metadata": {},
   "outputs": [
    {
     "data": {
      "text/plain": [
       "ChatPromptValue(messages=[SystemMessage(content='You are a helfull assistant'), HumanMessage(content='Tell me a joke about cats')])"
      ]
     },
     "execution_count": 18,
     "metadata": {},
     "output_type": "execute_result"
    }
   ],
   "source": [
    "c_prompt_template.invoke({\"topic\":\"cats\"})"
   ]
  },
  {
   "cell_type": "markdown",
   "id": "4622fd0b-6e65-40e9-b19d-4d3506db7576",
   "metadata": {},
   "source": [
    "#### Message PlaceHolder"
   ]
  },
  {
   "cell_type": "code",
   "execution_count": 30,
   "id": "21ad41ca-5015-475c-9abc-d8d617a7bc79",
   "metadata": {},
   "outputs": [],
   "source": [
    "from langchain_core.messages import HumanMessage, AIMessage, SystemMessage\n",
    "from langchain_core.prompts import MessagesPlaceholder"
   ]
  },
  {
   "cell_type": "code",
   "execution_count": 31,
   "id": "a555c6cc-2386-4605-b585-91c9813a608f",
   "metadata": {},
   "outputs": [],
   "source": [
    "messages = [\n",
    "    HumanMessage(content=\"my name is lakshay and i live in Bengaluru\"),\n",
    "    AIMessage(content=\"name:lakshay,lives_in:Bengaluru\"),\n",
    "    HumanMessage(content=\"i like movies\"),\n",
    "    AIMessage(content=\"likes:movies\"),\n",
    "    HumanMessage(content=\"i like games, oh i also like to sing\"),\n",
    "    AIMessage(content=\"likes:movies,likes:to sing\")\n",
    "]"
   ]
  },
  {
   "cell_type": "code",
   "execution_count": 32,
   "id": "f9e6a1b6-84b2-4d29-85cf-cd9f00b3619f",
   "metadata": {},
   "outputs": [
    {
     "ename": "SyntaxError",
     "evalue": "'(' was never closed (2170873796.py, line 1)",
     "output_type": "error",
     "traceback": [
      "\u001b[0;36m  Cell \u001b[0;32mIn[32], line 1\u001b[0;36m\u001b[0m\n\u001b[0;31m    placeholder_chat_prompt_template = ChatPromptTemplate.from_messages([\u001b[0m\n\u001b[0m                                                                       ^\u001b[0m\n\u001b[0;31mSyntaxError\u001b[0m\u001b[0;31m:\u001b[0m '(' was never closed\n"
     ]
    }
   ],
   "source": [
    "placeholder_chat_prompt_template = ChatPromptTemplate.from_messages([\n",
    "    SystemMessage(content=\"You are information extractor. This information should help us build a user's profile so that we can recommend things to user. This should incorporatewhat user like or do not like and every detail of user. You need to extract the properties as keys as well as values from the given text. Properties and their values must be as granular as possible. Be sure to make return output in the given format only.output format: <key>:<value>,<key>:<value>\")\n",
    "    MessagesPlaceholder(\"msgs\")\n",
    "]"
   ]
  },
  {
   "cell_type": "code",
   "execution_count": null,
   "id": "47fca67d-ccd2-4580-90fb-532006ec862e",
   "metadata": {},
   "outputs": [],
   "source": []
  }
 ],
 "metadata": {
  "kernelspec": {
   "display_name": "Python 3 (ipykernel)",
   "language": "python",
   "name": "python3"
  },
  "language_info": {
   "codemirror_mode": {
    "name": "ipython",
    "version": 3
   },
   "file_extension": ".py",
   "mimetype": "text/x-python",
   "name": "python",
   "nbconvert_exporter": "python",
   "pygments_lexer": "ipython3",
   "version": "3.11.2"
  }
 },
 "nbformat": 4,
 "nbformat_minor": 5
}
